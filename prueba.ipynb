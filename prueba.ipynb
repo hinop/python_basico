{
  "nbformat": 4,
  "nbformat_minor": 0,
  "metadata": {
    "colab": {
      "provenance": [],
      "mount_file_id": "1XJM5RR0_G97Ezt4nWS81rCwfUhmKawX9",
      "authorship_tag": "ABX9TyOVirOhqp/JWt5txzlEjnMf",
      "include_colab_link": true
    },
    "kernelspec": {
      "name": "python3",
      "display_name": "Python 3"
    },
    "language_info": {
      "name": "python"
    }
  },
  "cells": [
    {
      "cell_type": "markdown",
      "metadata": {
        "id": "view-in-github",
        "colab_type": "text"
      },
      "source": [
        "<a href=\"https://colab.research.google.com/github/hinop/python_basico/blob/main/prueba.ipynb\" target=\"_parent\"><img src=\"https://colab.research.google.com/assets/colab-badge.svg\" alt=\"Open In Colab\"/></a>"
      ]
    },
    {
      "cell_type": "markdown",
      "source": [],
      "metadata": {
        "id": "ahJOR9A5LD4I"
      }
    },
    {
      "cell_type": "code",
      "execution_count": 2,
      "metadata": {
        "id": "2DM3qWoIJTR1"
      },
      "outputs": [],
      "source": [
        "from csv import reader\n"
      ]
    },
    {
      "cell_type": "code",
      "source": [
        "abrir_archivo=open(\"/content/drive/MyDrive/dataSets/AppleStore.csv\")\n",
        "archivo=reader(abrir_archivo)\n",
        "data=list(archivo)\n",
        "cabezera=data[0]\n",
        "print(cabezera)\n",
        "datos=data[1:]"
      ],
      "metadata": {
        "colab": {
          "base_uri": "https://localhost:8080/"
        },
        "id": "04IZrjCXLFXD",
        "outputId": "b26b56a2-d0a6-4284-84ea-6ab4fc40e5b3"
      },
      "execution_count": 4,
      "outputs": [
        {
          "output_type": "stream",
          "name": "stdout",
          "text": [
            "['id', 'track_name', 'size_bytes', 'currency', 'price', 'rating_count_tot', 'rating_count_ver', 'user_rating', 'user_rating_ver', 'ver', 'cont_rating', 'prime_genre', 'sup_devices.num', 'ipadSc_urls.num', 'lang.num', 'vpp_lic']\n"
          ]
        }
      ]
    },
    {
      "cell_type": "code",
      "source": [],
      "metadata": {
        "id": "3ZQT0Mj8LfJq"
      },
      "execution_count": null,
      "outputs": []
    }
  ]
}