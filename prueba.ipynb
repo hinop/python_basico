{
  "nbformat": 4,
  "nbformat_minor": 0,
  "metadata": {
    "colab": {
      "provenance": [],
      "mount_file_id": "1XJM5RR0_G97Ezt4nWS81rCwfUhmKawX9",
      "authorship_tag": "ABX9TyOQGPnVy9LQkYm+bQpiOE9T",
      "include_colab_link": true
    },
    "kernelspec": {
      "name": "python3",
      "display_name": "Python 3"
    },
    "language_info": {
      "name": "python"
    }
  },
  "cells": [
    {
      "cell_type": "markdown",
      "metadata": {
        "id": "view-in-github",
        "colab_type": "text"
      },
      "source": [
        "<a href=\"https://colab.research.google.com/github/hinop/python_basico/blob/main/prueba.ipynb\" target=\"_parent\"><img src=\"https://colab.research.google.com/assets/colab-badge.svg\" alt=\"Open In Colab\"/></a>"
      ]
    },
    {
      "cell_type": "markdown",
      "source": [],
      "metadata": {
        "id": "ahJOR9A5LD4I"
      }
    },
    {
      "cell_type": "code",
      "execution_count": 1,
      "metadata": {
        "id": "2DM3qWoIJTR1"
      },
      "outputs": [],
      "source": [
        "from csv import reader\n"
      ]
    },
    {
      "cell_type": "code",
      "source": [
        "abrir_archivo=open(\"/content/drive/MyDrive/dataSets/AppleStore.csv\")\n",
        "archivo=reader(abrir_archivo)\n",
        "data=list(archivo)\n",
        "cabezera=data[0]\n",
        "print(cabezera)\n",
        "datos=data[1:]"
      ],
      "metadata": {
        "colab": {
          "base_uri": "https://localhost:8080/"
        },
        "id": "04IZrjCXLFXD",
        "outputId": "c3509baa-e2f9-4b8e-a938-86cb3c2bd200"
      },
      "execution_count": 2,
      "outputs": [
        {
          "output_type": "stream",
          "name": "stdout",
          "text": [
            "['id', 'track_name', 'size_bytes', 'currency', 'price', 'rating_count_tot', 'rating_count_ver', 'user_rating', 'user_rating_ver', 'ver', 'cont_rating', 'prime_genre', 'sup_devices.num', 'ipadSc_urls.num', 'lang.num', 'vpp_lic']\n"
          ]
        }
      ]
    },
    {
      "cell_type": "markdown",
      "source": [
        "## Ejercicios de condicionales"
      ],
      "metadata": {
        "id": "g6k71woqPqXN"
      }
    },
    {
      "cell_type": "code",
      "source": [
        "# cual es el promedio de los guego gratiutos\n",
        "promedio_juegos_gratis=[]\n",
        "for a in datos:\n",
        "  ranting=float(a[7])\n",
        "  precio=float(a[4])\n",
        "  genero=a[11]\n",
        "  if precio==0.0 and genero==\"Games\":\n",
        "    promedio_juegos_gratis.append(ranting)\n",
        "print(sum(promedio_juegos_gratis)/len(promedio_juegos_gratis))"
      ],
      "metadata": {
        "id": "3ZQT0Mj8LfJq",
        "colab": {
          "base_uri": "https://localhost:8080/"
        },
        "outputId": "e2e894ee-d7b2-4ae1-8158-5bcf92f52911"
      },
      "execution_count": 10,
      "outputs": [
        {
          "output_type": "stream",
          "name": "stdout",
          "text": [
            "3.5285777580859548\n"
          ]
        }
      ]
    },
    {
      "cell_type": "code",
      "source": [
        "#calcula el promedio de app tipo juegos y resocial\n",
        "avg_juegos_redSocial_gratis=[]\n",
        "for i in datos:\n",
        "  ranting=float(i[7])\n",
        "  precio=float(i[4])\n",
        "  genero=i[11]\n",
        "  if precio==0.0 and (genero==\"Games\" or genero==\"Social Networking\"):\n",
        "    avg_juegos_redSocial_gratis.append(ranting)\n",
        "print(sum(avg_juegos_redSocial_gratis)/len(avg_juegos_redSocial_gratis))\n",
        "\n"
      ],
      "metadata": {
        "colab": {
          "base_uri": "https://localhost:8080/"
        },
        "id": "cx6df-SiRJ9y",
        "outputId": "58e04434-9fed-47cb-bd8b-f11ba5f4495b"
      },
      "execution_count": 12,
      "outputs": [
        {
          "output_type": "stream",
          "name": "stdout",
          "text": [
            "3.496875\n"
          ]
        }
      ]
    },
    {
      "cell_type": "code",
      "source": [
        "\n",
        "#a)¿Cuál es la calificación promedio de las aplicaciones que tienen un precio mayor a $9?\n",
        "#b)¿Cuántas aplicaciones tienen un precio superior a $9?\n",
        "#c)¿Cuántas aplicaciones tienen un precio menor o igual a $9?\n",
        "\n",
        "avg_apps_precio_mayor_9=[]\n",
        "for i in datos:\n",
        "  precio=float(i[4])\n",
        "  ranting=float(i[7])\n",
        "  if precio>9:\n",
        "    avg_apps_precio_mayor_9.append(ranting)\n",
        "#a)\n",
        "print(sum(avg_apps_precio_mayor_9)/len(avg_apps_precio_mayor_9))\n",
        "#b)\n",
        "print(len(avg_apps_precio_mayor_9))"
      ],
      "metadata": {
        "colab": {
          "base_uri": "https://localhost:8080/"
        },
        "id": "7fs1IEGwTnLt",
        "outputId": "9405ee41-3f35-4801-b5fb-7ed6404c4ab8"
      },
      "execution_count": 13,
      "outputs": [
        {
          "output_type": "stream",
          "name": "stdout",
          "text": [
            "3.5280898876404496\n"
          ]
        }
      ]
    },
    {
      "cell_type": "code",
      "source": [],
      "metadata": {
        "id": "D4l9S1Hfhu2S"
      },
      "execution_count": null,
      "outputs": []
    }
  ]
}